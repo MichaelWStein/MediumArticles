{
 "cells": [
  {
   "cell_type": "code",
   "execution_count": 1,
   "id": "1ff4001c",
   "metadata": {},
   "outputs": [],
   "source": [
    "from qiskit import QuantumCircuit \n",
    "from qiskit.quantum_info import Statevector\n",
    "from qiskit.providers.aer import AerSimulator\n",
    "from qiskit.visualization import plot_histogram, array_to_latex\n",
    "from math import sqrt, pi"
   ]
  },
  {
   "cell_type": "code",
   "execution_count": 2,
   "id": "293fef9f",
   "metadata": {},
   "outputs": [
    {
     "data": {
      "text/html": [
       "<pre style=\"word-wrap: normal;white-space: pre;background: #fff0;line-height: 1.1;font-family: &quot;Courier New&quot;,Courier,monospace\">     ┌─────────────────┐ ░ ┌─┐\n",
       "q_0: ┤ Initialize(0,1) ├─░─┤M├\n",
       "     └─────────────────┘ ░ └╥┘\n",
       "c: 1/═══════════════════════╩═\n",
       "                            0 </pre>"
      ],
      "text/plain": [
       "     ┌─────────────────┐ ░ ┌─┐\n",
       "q_0: ┤ Initialize(0,1) ├─░─┤M├\n",
       "     └─────────────────┘ ░ └╥┘\n",
       "c: 1/═══════════════════════╩═\n",
       "                            0 "
      ]
     },
     "execution_count": 2,
     "metadata": {},
     "output_type": "execute_result"
    }
   ],
   "source": [
    "qc = QuantumCircuit(1,1) # Creates a basic circuit with one one qbit and one digital bit\n",
    "initial_state = [0,1]   # Define initial_stateas |1>\n",
    "#also can try out other initial states - remember these are complex numbers. Example:\n",
    "#initial_state = [1/sqrt(2), 1j/sqrt(2)]\n",
    "#if length of vector is not one, there will be an error message.\n",
    "qc.initialize(initial_state, 0) # Apply initialisation operation to the 0th qubit\n",
    "qc.save_statevector(label='statevector', pershot=False, conditional=False)  # Tell simulator to save statevector\n",
    "# Unless statevector is not specifically saved, it cannot be retrieved\n",
    "qc.measure([0], [0]) #measure needs to be implemented in this case, otherwise get_counts() will always count zero\n",
    "qc.draw()  # Let's view our circuit"
   ]
  },
  {
   "cell_type": "code",
   "execution_count": 3,
   "id": "c429bdf4",
   "metadata": {},
   "outputs": [],
   "source": [
    "sim = AerSimulator()  # make new simulator object"
   ]
  },
  {
   "cell_type": "code",
   "execution_count": 4,
   "id": "959c1c23",
   "metadata": {},
   "outputs": [],
   "source": [
    "job = sim.run(qc)      # run the experiment\n",
    "result = job.result()  # get the results\n",
    "vector_value = result.get_counts()    # interpret the results as a \"counts\" dictionary\n",
    "# Out put will show the result and the number of operations that get this result\n",
    "# Counts will not be mathematically exact - the measurement is a random process, after all"
   ]
  },
  {
   "cell_type": "code",
   "execution_count": 5,
   "id": "ec63fd36",
   "metadata": {},
   "outputs": [
    {
     "name": "stdout",
     "output_type": "stream",
     "text": [
      "[0.+0.j 1.+0.j]\n"
     ]
    }
   ],
   "source": [
    "out_state = result.get_statevector()\n",
    "print(out_state) # Display the output state vector"
   ]
  },
  {
   "cell_type": "code",
   "execution_count": 6,
   "id": "3f07e0ad",
   "metadata": {},
   "outputs": [
    {
     "data": {
      "image/png": "[encoded data removed]",
      "text/plain": [
       "<Figure size 504x360 with 1 Axes>"
      ]
     },
     "execution_count": 6,
     "metadata": {},
     "output_type": "execute_result"
    }
   ],
   "source": [
    "plot_histogram(vector_value)"
   ]
  },
  {
   "cell_type": "code",
   "execution_count": 7,
   "id": "0f4c2f0d",
   "metadata": {},
   "outputs": [
    {
     "data": {
      "text/plain": [
       "<qiskit.circuit.instructionset.InstructionSet at 0x23d86a523d0>"
      ]
     },
     "execution_count": 7,
     "metadata": {},
     "output_type": "execute_result"
    }
   ],
   "source": [
    "qc = QuantumCircuit(1,1) # Creates a basic circuit with one one qbit and one digital bit\n",
    "initial_state = [1,0] \n",
    "qc.initialize(initial_state, 0) "
   ]
  },
  {
   "cell_type": "code",
   "execution_count": 8,
   "id": "05e0f631",
   "metadata": {},
   "outputs": [],
   "source": [
    "job = sim.run(qc)      # run the experiment\n",
    "result = job.result()  # get the results\n",
    "vector_value = result.get_counts() "
   ]
  },
  {
   "cell_type": "code",
   "execution_count": 9,
   "id": "faff8410",
   "metadata": {},
   "outputs": [
    {
     "data": {
      "image/png": "[encoded data removed]",
      "text/plain": [
       "<Figure size 504x360 with 1 Axes>"
      ]
     },
     "execution_count": 9,
     "metadata": {},
     "output_type": "execute_result"
    }
   ],
   "source": [
    "plot_histogram(vector_value)"
   ]
  },
  {
   "cell_type": "code",
   "execution_count": 10,
   "id": "ccbec122",
   "metadata": {},
   "outputs": [
    {
     "data": {
      "text/plain": [
       "<qiskit.circuit.instructionset.InstructionSet at 0x23d885e1a00>"
      ]
     },
     "execution_count": 10,
     "metadata": {},
     "output_type": "execute_result"
    }
   ],
   "source": [
    "#Now the output from a hadamard Gate\n",
    "#qc is 'properly' initialized (i.e. always initialize to zero, then manipulate with gates)\n",
    "#The Hadamard Gate on the '0' bit creates a [1/sqrt(2), 1/sqrt(2)] state vector \n",
    "\n",
    "qc = QuantumCircuit(1,1) # Creates a basic circuit with one one qbit and one digital bit\n",
    "initial_state = [1,0] \n",
    "qc.initialize(initial_state, 0) \n"
   ]
  },
  {
   "cell_type": "code",
   "execution_count": 11,
   "id": "d64df1e9",
   "metadata": {},
   "outputs": [
    {
     "data": {
      "text/html": [
       "<pre style=\"word-wrap: normal;white-space: pre;background: #fff0;line-height: 1.1;font-family: &quot;Courier New&quot;,Courier,monospace\">     ┌─────────────────┐┌───┐ ░ ┌─┐\n",
       "q_0: ┤ Initialize(1,0) ├┤ H ├─░─┤M├\n",
       "     └─────────────────┘└───┘ ░ └╥┘\n",
       "c: 1/════════════════════════════╩═\n",
       "                                 0 </pre>"
      ],
      "text/plain": [
       "     ┌─────────────────┐┌───┐ ░ ┌─┐\n",
       "q_0: ┤ Initialize(1,0) ├┤ H ├─░─┤M├\n",
       "     └─────────────────┘└───┘ ░ └╥┘\n",
       "c: 1/════════════════════════════╩═\n",
       "                                 0 "
      ]
     },
     "execution_count": 11,
     "metadata": {},
     "output_type": "execute_result"
    }
   ],
   "source": [
    "qc.h(0)  #H-transformation onto first (and in this case only) qbit\n",
    "qc.save_statevector(); #necessary if I want to draw the statevector\n",
    "qc.measure(0,0)\n",
    "qc.draw()"
   ]
  },
  {
   "cell_type": "code",
   "execution_count": 12,
   "id": "94ac1f15",
   "metadata": {},
   "outputs": [],
   "source": [
    "job = sim.run(qc)      # run the experiment\n",
    "result = job.result()  # get the results"
   ]
  },
  {
   "cell_type": "code",
   "execution_count": 13,
   "id": "a77f3e35",
   "metadata": {},
   "outputs": [
    {
     "data": {
      "text/latex": [
       "$$\n",
       "\\text{Statevector = }\n",
       "\\begin{bmatrix}\n",
       "\\tfrac{1}{\\sqrt{2}} & \\tfrac{1}{\\sqrt{2}}  \\\\\n",
       " \\end{bmatrix}\n",
       "$$"
      ],
      "text/plain": [
       "<IPython.core.display.Latex object>"
      ]
     },
     "execution_count": 13,
     "metadata": {},
     "output_type": "execute_result"
    }
   ],
   "source": [
    "ket = result.get_statevector() \n",
    "# Print the statevector neatly:\n",
    "array_to_latex(ket, prefix=\"\\\\text{Statevector = }\")"
   ]
  },
  {
   "cell_type": "code",
   "execution_count": 14,
   "id": "2a0bcebd",
   "metadata": {},
   "outputs": [
    {
     "data": {
      "image/png": "[encoded data removed]",
      "text/plain": [
       "<Figure size 504x360 with 1 Axes>"
      ]
     },
     "execution_count": 14,
     "metadata": {},
     "output_type": "execute_result"
    }
   ],
   "source": [
    "vector_value = result.get_counts()\n",
    "plot_histogram(vector_value)"
   ]
  },
  {
   "cell_type": "code",
   "execution_count": 15,
   "id": "7a83d856",
   "metadata": {},
   "outputs": [
    {
     "name": "stdout",
     "output_type": "stream",
     "text": [
      "{'0': 516, '1': 508}\n"
     ]
    }
   ],
   "source": [
    "#Providing a count of the values - the circuit was run 1024 times (standard setting)\n",
    "print(vector_value)"
   ]
  }
 ],
 "metadata": {
  "kernelspec": {
   "display_name": "Python 3",
   "language": "python",
   "name": "python3"
  },
  "language_info": {
   "codemirror_mode": {
    "name": "ipython",
    "version": 3
   },
   "file_extension": ".py",
   "mimetype": "text/x-python",
   "name": "python",
   "nbconvert_exporter": "python",
   "pygments_lexer": "ipython3",
   "version": "3.8.8"
  }
 },
 "nbformat": 4,
 "nbformat_minor": 5
}
